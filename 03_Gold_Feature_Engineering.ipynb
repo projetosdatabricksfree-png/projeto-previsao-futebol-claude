{
 "cells": [
  {
   "cell_type": "code",
   "execution_count": 0,
   "metadata": {
    "application/vnd.databricks.v1+cell": {
     "cellMetadata": {
      "byteLimit": 2048000,
      "rowLimit": 10000
     },
     "inputWidgets": {},
     "nuid": "f07d718f-3fe8-4cf4-8ff4-7a4edba9741e",
     "showTitle": false,
     "tableResultSettingsMap": {},
     "title": ""
    }
   },
   "outputs": [],
   "source": [
    "# ==============================================================================\n",
    "# CONFIGURAÇÕES E IMPORTS\n",
    "# ==============================================================================\n",
    "import pandas as pd\n",
    "from pyspark.sql import functions as F, Window\n",
    "from pyspark.sql.types import DoubleType\n",
    "\n",
    "# Configurar o uso do nosso catálogo e dos schemas\n",
    "spark.sql(\"USE CATALOG previsao_brasileirao\")\n",
    "\n",
    "silver_schema = \"silver\"\n",
    "gold_schema = \"gold\"\n",
    "\n",
    "print(f\"Lendo dados de: {silver_schema}\")\n",
    "print(f\"Salvando dados em: {gold_schema}\")"
   ]
  },
  {
   "cell_type": "code",
   "execution_count": 0,
   "metadata": {
    "application/vnd.databricks.v1+cell": {
     "cellMetadata": {
      "byteLimit": 2048000,
      "rowLimit": 10000
     },
     "inputWidgets": {},
     "nuid": "66999f8c-651f-42fb-af12-d9f457a0a477",
     "showTitle": false,
     "tableResultSettingsMap": {},
     "title": ""
    }
   },
   "outputs": [],
   "source": [
    "# ==============================================================================\n",
    "# PASSO 1: CALCULAR O RATING ELO PARA CADA TIME A CADA RODADA\n",
    "# ==============================================================================\n",
    "print(\"Iniciando o cálculo do Rating Elo...\")\n",
    "\n",
    "# Puxar as partidas da camada Silver e ordenar cronologicamente\n",
    "df_partidas = spark.table(f\"{silver_schema}.partidas\").orderBy(\"data_partida\")\n",
    "partidas_pd = df_partidas.toPandas()\n",
    "\n",
    "# Configurações do Elo\n",
    "K_FACTOR = 32\n",
    "ELO_INICIAL = 1500\n",
    "elos = {} # Dicionário para armazenar o Elo atual de cada time\n",
    "\n",
    "# Listas para armazenar os Elos pré-partida\n",
    "elos_mandante_pre_jogo = []\n",
    "elos_visitante_pre_jogo = []\n",
    "\n",
    "# Iterar sobre cada partida em ordem para calcular o Elo\n",
    "for index, row in partidas_pd.iterrows():\n",
    "    mandante_id = row['mandante_id']\n",
    "    visitante_id = row['visitante_id']\n",
    "    resultado = row['resultado']\n",
    "    \n",
    "    # Inicializar o Elo dos times se for a primeira vez que os vemos\n",
    "    elo_mandante = elos.get(mandante_id, ELO_INICIAL)\n",
    "    elo_visitante = elos.get(visitante_id, ELO_INICIAL)\n",
    "    \n",
    "    # Armazenar os Elos ANTES da partida\n",
    "    elos_mandante_pre_jogo.append(elo_mandante)\n",
    "    elos_visitante_pre_jogo.append(elo_visitante)\n",
    "    \n",
    "    # Calcular a probabilidade de vitória esperada para o mandante\n",
    "    prob_mandante = 1 / (1 + 10**((elo_visitante - elo_mandante) / 400))\n",
    "    \n",
    "    # Determinar o resultado da partida (S)\n",
    "    if resultado == 'VITORIA_MANDANTE':\n",
    "        score_mandante = 1.0\n",
    "    elif resultado == 'EMPATE':\n",
    "        score_mandante = 0.5\n",
    "    else: # VITORIA_VISITANTE\n",
    "        score_mandante = 0.0\n",
    "        \n",
    "    # Calcular o novo Elo para o mandante\n",
    "    novo_elo_mandante = elo_mandante + K_FACTOR * (score_mandante - prob_mandante)\n",
    "    # A mudança no Elo do visitante é o inverso da do mandante\n",
    "    novo_elo_visitante = elo_visitante + K_FACTOR * ((1 - score_mandante) - (1 - prob_mandante))\n",
    "    \n",
    "    # Atualizar o dicionário de Elos para a próxima rodada\n",
    "    elos[mandante_id] = novo_elo_mandante\n",
    "    elos[visitante_id] = novo_elo_visitante\n",
    "\n",
    "# Adicionar as novas colunas de Elo ao DataFrame Pandas\n",
    "partidas_pd['elo_mandante_pre_jogo'] = elos_mandante_pre_jogo\n",
    "partidas_pd['elo_visitante_pre_jogo'] = elos_visitante_pre_jogo\n",
    "partidas_pd['elo_diff'] = partidas_pd['elo_mandante_pre_jogo'] - partidas_pd['elo_visitante_pre_jogo']\n",
    "\n",
    "# Converter de volta para um DataFrame Spark\n",
    "df_elos = spark.createDataFrame(partidas_pd[['partida_id', 'elo_mandante_pre_jogo', 'elo_visitante_pre_jogo', 'elo_diff']])\n",
    "\n",
    "print(\"✅ Cálculo do Elo concluído.\")\n",
    "display(df_elos.limit(10))"
   ]
  },
  {
   "cell_type": "code",
   "execution_count": 0,
   "metadata": {
    "application/vnd.databricks.v1+cell": {
     "cellMetadata": {
      "byteLimit": 2048000,
      "rowLimit": 10000
     },
     "inputWidgets": {},
     "nuid": "dd219cbf-30e8-489d-be42-f42de2819c2b",
     "showTitle": false,
     "tableResultSettingsMap": {},
     "title": ""
    }
   },
   "outputs": [],
   "source": [
    "# ==============================================================================\n",
    "# PASSO 2: AGREGAR SCOUTS POR TIME E PARTIDA\n",
    "# ==============================================================================\n",
    "print(\"Agregando scouts por time e partida...\")\n",
    "\n",
    "df_stats_jogador = spark.table(f\"{silver_schema}.estatisticas_jogador_partida\")\n",
    "\n",
    "# Agrupar por partida e clube para somar todos os scouts\n",
    "df_stats_time_partida = df_stats_jogador.groupBy(\"partida_id\", \"clube_id\").agg(\n",
    "    F.sum(\"G\").alias(\"gols\"),\n",
    "    F.sum(\"A\").alias(\"assistencias\"),\n",
    "    (F.sum(\"FF\") + F.sum(\"FD\") + F.sum(\"G\")).alias(\"finalizacoes_totais\"),\n",
    "    F.sum(\"DS\").alias(\"desarmes\"),\n",
    "    F.sum(\"FC\").alias(\"faltas_cometidas\"),\n",
    "    F.sum(\"FS\").alias(\"faltas_sofridas\"),\n",
    "    F.sum(\"PE\").alias(\"passes_errados\")\n",
    "    # Adicione outros scouts que julgar relevantes aqui\n",
    ")\n",
    "\n",
    "print(\"✅ Agregação de scouts concluída.\")\n",
    "display(df_stats_time_partida.limit(10))"
   ]
  },
  {
   "cell_type": "code",
   "execution_count": 0,
   "metadata": {
    "application/vnd.databricks.v1+cell": {
     "cellMetadata": {
      "byteLimit": 2048000,
      "rowLimit": 10000
     },
     "inputWidgets": {},
     "nuid": "e8f8799e-937a-4683-91ed-71dc40d9733c",
     "showTitle": false,
     "tableResultSettingsMap": {},
     "title": ""
    }
   },
   "outputs": [],
   "source": [
    "# ==============================================================================\n",
    "# PASSO 3: CALCULAR MÉDIAS MÓVEIS DE PERFORMANCE\n",
    "# ==============================================================================\n",
    "print(\"Calculando médias móveis de performance (últimos 5 jogos)...\")\n",
    "\n",
    "# Precisamos juntar as estatísticas com a data da partida para ordenação\n",
    "df_partidas_base = spark.table(f\"{silver_schema}.partidas\").select(\"partida_id\", \"data_partida\", \"mandante_id\", \"visitante_id\")\n",
    "df_stats_com_data = df_stats_time_partida.join(df_partidas_base, \"partida_id\")\n",
    "\n",
    "# Criar uma tabela com uma linha por time por partida (desnormalizando mandante/visitante)\n",
    "mandantes = df_stats_com_data.withColumnRenamed(\"mandante_id\", \"clube_id_ref\").drop(\"visitante_id\")\n",
    "visitantes = df_stats_com_data.withColumnRenamed(\"visitante_id\", \"clube_id_ref\").drop(\"mandante_id\")\n",
    "df_times_partidas = mandantes.unionByName(visitantes).filter(F.col(\"clube_id\") == F.col(\"clube_id_ref\")).drop(\"clube_id_ref\")\n",
    "\n",
    "# Definir a Window Spec: para cada time, ordenar por data e olhar as 5 linhas anteriores\n",
    "window_spec = Window.partitionBy(\"clube_id\").orderBy(\"data_partida\").rowsBetween(-5, -1)\n",
    "\n",
    "# Calcular as médias móveis\n",
    "df_medias_moveis = df_times_partidas.withColumn(\"media_movel_gols_marcados\", F.avg(\"gols\").over(window_spec)) \\\n",
    "                                    .withColumn(\"media_movel_finalizacoes\", F.avg(\"finalizacoes_totais\").over(window_spec)) \\\n",
    "                                    .withColumn(\"media_movel_desarmes\", F.avg(\"desarmes\").over(window_spec))\n",
    "\n",
    "# Selecionar as colunas que precisamos\n",
    "df_features_forma = df_medias_moveis.select(\n",
    "    \"partida_id\",\n",
    "    \"clube_id\",\n",
    "    \"media_movel_gols_marcados\",\n",
    "    \"media_movel_finalizacoes\",\n",
    "    \"media_movel_desarmes\"\n",
    ")\n",
    "\n",
    "# Substituir nulos por 0 (para os primeiros jogos da temporada de um time)\n",
    "df_features_forma = df_features_forma.na.fill(0)\n",
    "\n",
    "print(\"✅ Cálculo de médias móveis concluído.\")\n",
    "display(df_features_forma.limit(10))"
   ]
  },
  {
   "cell_type": "code",
   "execution_count": 0,
   "metadata": {
    "application/vnd.databricks.v1+cell": {
     "cellMetadata": {
      "byteLimit": 2048000,
      "rowLimit": 10000
     },
     "inputWidgets": {},
     "nuid": "2e352531-9f3a-4bda-b9b6-8771a6e6e445",
     "showTitle": false,
     "tableResultSettingsMap": {},
     "title": ""
    }
   },
   "outputs": [],
   "source": [
    "# ==============================================================================\n",
    "# PASSO 4: MONTAR A TABELA FINAL 'feature_store'\n",
    "# ==============================================================================\n",
    "print(\"Montando a tabela final feature_store...\")\n",
    "\n",
    "# Tabela base com o resultado (nosso alvo)\n",
    "df_base = spark.table(f\"{silver_schema}.partidas\").select(\"partida_id\", \"rodada\", \"mandante_id\", \"visitante_id\", \"resultado\")\n",
    "\n",
    "# Juntar features de Elo\n",
    "df_com_elo = df_base.join(df_elos, \"partida_id\")\n",
    "\n",
    "# Separar as features de forma para mandante e visitante para o join\n",
    "features_mandante = df_features_forma.withColumnRenamed(\"clube_id\", \"mandante_id\") \\\n",
    "                                     .withColumnRenamed(\"media_movel_gols_marcados\", \"mm_gols_m\") \\\n",
    "                                     .withColumnRenamed(\"media_movel_finalizacoes\", \"mm_fin_m\") \\\n",
    "                                     .withColumnRenamed(\"media_movel_desarmes\", \"mm_des_m\")\n",
    "\n",
    "features_visitante = df_features_forma.withColumnRenamed(\"clube_id\", \"visitante_id\") \\\n",
    "                                      .withColumnRenamed(\"media_movel_gols_marcados\", \"mm_gols_v\") \\\n",
    "                                      .withColumnRenamed(\"media_movel_finalizacoes\", \"mm_fin_v\") \\\n",
    "                                      .withColumnRenamed(\"media_movel_desarmes\", \"mm_des_v\")\n",
    "\n",
    "# Juntar as features de forma do mandante\n",
    "df_final = df_com_elo.join(features_mandante, [\"partida_id\", \"mandante_id\"], \"left\")\n",
    "# Juntar as features de forma do visitante\n",
    "df_final = df_final.join(features_visitante, [\"partida_id\", \"visitante_id\"], \"left\")\n",
    "\n",
    "# Calcular diferenciais de \"forma\"\n",
    "df_final = df_final.withColumn(\"diff_mm_gols\", F.col(\"mm_gols_m\") - F.col(\"mm_gols_v\")) \\\n",
    "                   .withColumn(\"diff_mm_fin\", F.col(\"mm_fin_m\") - F.col(\"mm_fin_v\")) \\\n",
    "                   .withColumn(\"diff_mm_des\", F.col(\"mm_des_m\") - F.col(\"mm_des_v\"))\n",
    "\n",
    "# Selecionar e ordenar as colunas finais\n",
    "df_final = df_final.select(\n",
    "    \"partida_id\", \"rodada\", \"mandante_id\", \"visitante_id\",\n",
    "    # Features de Força\n",
    "    \"elo_mandante_pre_jogo\", \"elo_visitante_pre_jogo\", \"elo_diff\",\n",
    "    # Features de Forma (Mandante)\n",
    "    \"mm_gols_m\", \"mm_fin_m\", \"mm_des_m\",\n",
    "    # Features de Forma (Visitante)\n",
    "    \"mm_gols_v\", \"mm_fin_v\", \"mm_des_v\",\n",
    "    # Features de Diferencial\n",
    "    \"diff_mm_gols\", \"diff_mm_fin\", \"diff_mm_des\",\n",
    "    # Alvo\n",
    "    \"resultado\"\n",
    ").na.fill(0)\n",
    "\n",
    "\n",
    "# Salvar a tabela final na camada Gold\n",
    "df_final.write \\\n",
    "    .mode(\"overwrite\") \\\n",
    "    .format(\"delta\") \\\n",
    "    .option(\"overwriteSchema\", \"true\") \\\n",
    "    .saveAsTable(f\"{gold_schema}.feature_store\")\n",
    "\n",
    "print(\"✅ Tabela 'feature_store' criada com sucesso na camada Gold.\")\n",
    "display(spark.table(f\"{gold_schema}.feature_store\").limit(10))"
   ]
  }
 ],
 "metadata": {
  "application/vnd.databricks.v1+notebook": {
   "computePreferences": null,
   "dashboards": [],
   "environmentMetadata": {
    "base_environment": "",
    "environment_version": "4"
   },
   "inputWidgetPreferences": null,
   "language": "python",
   "notebookMetadata": {
    "pythonIndentUnit": 4
   },
   "notebookName": "03_Gold_Feature_Engineering",
   "widgets": {}
  },
  "language_info": {
   "name": "python"
  }
 },
 "nbformat": 4,
 "nbformat_minor": 0
}
