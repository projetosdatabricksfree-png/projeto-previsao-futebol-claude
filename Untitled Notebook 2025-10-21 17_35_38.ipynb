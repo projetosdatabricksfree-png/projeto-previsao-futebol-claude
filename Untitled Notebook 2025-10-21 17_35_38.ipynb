{
 "cells": [
  {
   "cell_type": "code",
   "execution_count": 0,
   "metadata": {
    "application/vnd.databricks.v1+cell": {
     "cellMetadata": {
      "byteLimit": 2048000,
      "rowLimit": 10000
     },
     "inputWidgets": {},
     "nuid": "df3a7229-e1a1-4c9b-9ff6-2163887232f8",
     "showTitle": false,
     "tableResultSettingsMap": {
      "0": {
       "dataGridStateBlob": "{\"version\":1,\"tableState\":{\"columnPinning\":{\"left\":[\"#row_number#\"],\"right\":[]},\"columnSizing\":{\"previsao\":180},\"columnVisibility\":{}},\"settings\":{\"columns\":{}},\"syncTimestamp\":1761078977684}",
       "filterBlob": null,
       "queryPlanFiltersBlob": null,
       "tableResultIndex": 0
      }
     },
     "title": ""
    }
   },
   "outputs": [],
   "source": [
    "from pyspark.ml.functions import vector_to_array\n",
    "from pyspark.sql.functions import col, expr\n",
    "\n",
    "df = spark.table(\"previsao_brasileirao.diamond.previsoes_proximas_partidas\")\n",
    "\n",
    "# Converte o vetor para array de doubles\n",
    "df = df.withColumn(\"confianca_array\", vector_to_array(col(\"confianca_probabilidades\")))\n",
    "\n",
    "# Agora você pode acessar os índices usando .getItem()\n",
    "df = df.select(\n",
    "    \"data_hora_partida\",\n",
    "    \"time_mandante\",\n",
    "    \"time_visitante\",\n",
    "    \"previsao\",\n",
    "    (col(\"confianca_array\").getItem(0) * 100).alias(\"prob_vitoria_mandante_%\"),\n",
    "    (col(\"confianca_array\").getItem(1) * 100).alias(\"prob_empate_%\"),\n",
    "    (col(\"confianca_array\").getItem(2) * 100).alias(\"prob_vitoria_visitante_%\")\n",
    ")\n",
    "\n",
    "df.display()  # Se estiver no Databricks\n"
   ]
  }
 ],
 "metadata": {
  "application/vnd.databricks.v1+notebook": {
   "computePreferences": null,
   "dashboards": [],
   "environmentMetadata": {
    "base_environment": "",
    "environment_version": "4"
   },
   "inputWidgetPreferences": null,
   "language": "python",
   "notebookMetadata": {
    "pythonIndentUnit": 4
   },
   "notebookName": "Untitled Notebook 2025-10-21 17_35_38",
   "widgets": {}
  },
  "language_info": {
   "name": "python"
  }
 },
 "nbformat": 4,
 "nbformat_minor": 0
}
